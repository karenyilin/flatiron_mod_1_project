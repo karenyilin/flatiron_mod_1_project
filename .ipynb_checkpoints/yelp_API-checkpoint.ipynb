{
 "cells": [
  {
   "cell_type": "markdown",
   "metadata": {},
   "source": [
    "# Module 1 Project \n"
   ]
  },
  {
   "cell_type": "markdown",
   "metadata": {},
   "source": [
    "Flatiron School Data Science immersive January 28 Cohort\n"
   ]
  },
  {
   "cell_type": "markdown",
   "metadata": {},
   "source": [
    "This project asks to collect data either through API calls or webscraping, put them in tabular format, and create visualizations and exploratory analysis to tell a story of these data."
   ]
  },
  {
   "cell_type": "markdown",
   "metadata": {},
   "source": [
    "Karen Lin and Derrick Lewis collaborated on this project to collect data regarding Vegan vs. Steak Restaurants from 10 cities in the United States. The goal was to look for comparisons between these nearly opposite foods. We will look for restaturant density, price disparity and local sentiment through ratings. "
   ]
  },
  {
   "cell_type": "markdown",
   "metadata": {},
   "source": [
    "To begin we will import data from the Yelp API. "
   ]
  },
  {
   "cell_type": "markdown",
   "metadata": {},
   "source": [
    "This process will require two python libraries. The first \"requests\" will allow us to the \"get\" function which will organize the url, paramaters and identification key to our digital request."
   ]
  },
  {
   "cell_type": "code",
   "execution_count": 47,
   "metadata": {},
   "outputs": [],
   "source": [
    "import requests\n",
    "import pandas as pd\n",
    "import math"
   ]
  },
  {
   "cell_type": "markdown",
   "metadata": {},
   "source": [
    "## Function"
   ]
  },
  {
   "cell_type": "markdown",
   "metadata": {},
   "source": [
    "Next we will build our request function. The restrictions on the Yelp API will limit our results to just 50 businesses. As most urban areas have more restaurants available we will need to create a loop to make multiple requests each time at a new starting point in the list. "
   ]
  },
  {
   "cell_type": "markdown",
   "metadata": {},
   "source": [
    "### Criteria"
   ]
  },
  {
   "cell_type": "markdown",
   "metadata": {},
   "source": [
    "With some early tests directly on the Yelp website, we found more distinct results from a category search rather than searching for term across the entire data set. This returns restaurants with specific tags for that category. "
   ]
  },
  {
   "cell_type": "markdown",
   "metadata": {},
   "source": [
    "### Area"
   ]
  },
  {
   "cell_type": "markdown",
   "metadata": {},
   "source": [
    "talk about radius "
   ]
  },
  {
   "cell_type": "code",
   "execution_count": null,
   "metadata": {},
   "outputs": [],
   "source": []
  },
  {
   "cell_type": "code",
   "execution_count": 1,
   "metadata": {},
   "outputs": [],
   "source": [
    "client_id = ''\n",
    "api_key = ''\n",
    "\n",
    "url = 'https://api.yelp.com/v3/businesses/search'\n",
    "headers = {\n",
    "        'Authorization': 'Bearer {}'.format(api_key),\n",
    "    }\n",
    "\n",
    "\n",
    "def yelp_pull(cat, lat, lon):\n",
    "    '''explain this:\n",
    "    INPUTS: \n",
    "    OUTPUTS: returns a list of dictionaries for each restaurant \n",
    "    '''\n",
    "    results = 0\n",
    "    offset = 0\n",
    "    url_params = {\n",
    "                     'term': 'restaurants',\n",
    "                     'limit': 50,\n",
    "                     'categories': str(cat),\n",
    "                     'offset': offset,\n",
    "                     'latitude':lat,\n",
    "                     'longitude':lon,\n",
    "                     'radius':40000\n",
    "                      }\n",
    "        \n",
    "        \n",
    "    response = requests.get(url, headers=headers, params=url_params)\n",
    "    results = response.json()['total']\n",
    "    \n",
    "    \n",
    "    temp_list= []\n",
    "    rng = math.ceil(results/50)\n",
    "    print(rng)\n",
    "    for i in range(0,rng):\n",
    "        print(offset)\n",
    "        url_params = {\n",
    "                     'term': 'restaurants',\n",
    "                     'limit': 50,\n",
    "                     'categories': str(cat),\n",
    "                     'offset': offset,\n",
    "                     'latitude':lat,\n",
    "                     'longitude':lon,\n",
    "                     'radius':40000\n",
    "                      }\n",
    "        \n",
    "        \n",
    "        response = requests.get(url, headers=headers, params=url_params)\n",
    "        results = response.json()['total']\n",
    "        for x in range(len(response.json()['businesses'])):\n",
    "                 temp_list.append(response.json()['businesses'][x])\n",
    "        offset +=50\n",
    "    return temp_list"
   ]
  },
  {
   "cell_type": "code",
   "execution_count": null,
   "metadata": {},
   "outputs": [],
   "source": []
  },
  {
   "cell_type": "code",
   "execution_count": 177,
   "metadata": {},
   "outputs": [
    {
     "data": {
      "text/plain": [
       "{'id': 'Nk4H9CkU8B1VPAofaB2qcQ',\n",
       " 'alias': 'mables-table-chicago',\n",
       " 'name': \"Mable's Table\",\n",
       " 'image_url': 'https://s3-media2.fl.yelpcdn.com/bphoto/zk7nA0bYl0jlpuNAFQo4PQ/o.jpg',\n",
       " 'is_closed': False,\n",
       " 'url': 'https://www.yelp.com/biz/mables-table-chicago?adjust_creative=eAOaimX85y-R9FkFMWxzPQ&utm_campaign=yelp_api_v3&utm_medium=api_v3_business_search&utm_source=eAOaimX85y-R9FkFMWxzPQ',\n",
       " 'review_count': 209,\n",
       " 'categories': [{'alias': 'newamerican', 'title': 'American (New)'},\n",
       "  {'alias': 'steak', 'title': 'Steakhouses'}],\n",
       " 'rating': 4.5,\n",
       " 'coordinates': {'latitude': 41.91582, 'longitude': -87.6699},\n",
       " 'transactions': ['pickup', 'restaurant_reservation'],\n",
       " 'price': '$$',\n",
       " 'location': {'address1': '1655 W Cortland St',\n",
       "  'address2': '',\n",
       "  'address3': None,\n",
       "  'city': 'Chicago',\n",
       "  'zip_code': '60622',\n",
       "  'country': 'US',\n",
       "  'state': 'IL',\n",
       "  'display_address': ['1655 W Cortland St', 'Chicago, IL 60622']},\n",
       " 'phone': '+17739047433',\n",
       " 'display_phone': '(773) 904-7433',\n",
       " 'distance': 1352.325855632121}"
      ]
     },
     "execution_count": 177,
     "metadata": {},
     "output_type": "execute_result"
    }
   ],
   "source": [
    "row = chi_stk_list[1]"
   ]
  },
  {
   "cell_type": "code",
   "execution_count": null,
   "metadata": {},
   "outputs": [],
   "source": [
    "df[df['city']=='chicago']"
   ]
  },
  {
   "cell_type": "code",
   "execution_count": null,
   "metadata": {},
   "outputs": [],
   "source": []
  },
  {
   "cell_type": "code",
   "execution_count": null,
   "metadata": {},
   "outputs": [],
   "source": [
    "x"
   ]
  },
  {
   "cell_type": "code",
   "execution_count": 178,
   "metadata": {},
   "outputs": [
    {
     "ename": "NameError",
     "evalue": "name 'row' is not defined",
     "output_type": "error",
     "traceback": [
      "\u001b[0;31m---------------------------------------------------------------------------\u001b[0m",
      "\u001b[0;31mNameError\u001b[0m                                 Traceback (most recent call last)",
      "\u001b[0;32m<ipython-input-178-79d792e52642>\u001b[0m in \u001b[0;36m<module>\u001b[0;34m\u001b[0m\n\u001b[1;32m      1\u001b[0m {\n\u001b[0;32m----> 2\u001b[0;31m     \"city\": row['location']['city']}\n\u001b[0m",
      "\u001b[0;31mNameError\u001b[0m: name 'row' is not defined"
     ]
    }
   ],
   "source": [
    "{\n",
    "    \"city\": row['location']['city'],\n",
    "    'name': row['name']\n",
    "    'phone_number': row['number'],\n",
    "    'steak': 'steak' in row['categories'].....\n",
    "}"
   ]
  },
  {
   "cell_type": "code",
   "execution_count": null,
   "metadata": {},
   "outputs": [],
   "source": []
  },
  {
   "cell_type": "code",
   "execution_count": null,
   "metadata": {},
   "outputs": [],
   "source": []
  },
  {
   "cell_type": "code",
   "execution_count": null,
   "metadata": {},
   "outputs": [],
   "source": []
  },
  {
   "cell_type": "code",
   "execution_count": null,
   "metadata": {},
   "outputs": [],
   "source": []
  },
  {
   "cell_type": "code",
   "execution_count": 151,
   "metadata": {},
   "outputs": [],
   "source": [
    "\n"
   ]
  },
  {
   "cell_type": "code",
   "execution_count": null,
   "metadata": {},
   "outputs": [],
   "source": []
  },
  {
   "cell_type": "markdown",
   "metadata": {},
   "source": [
    "### Population of matching 40km radius"
   ]
  },
  {
   "cell_type": "code",
   "execution_count": 180,
   "metadata": {},
   "outputs": [],
   "source": [
    "pop = {'Portland':1907395, \n",
    "'Los Angeles':10055380, \n",
    "'New York City':13409590, \n",
    "'Boston':3342667, \n",
    "'Chicago':6377851, \n",
    "'Austin':1142575, \n",
    "'miami':3140501, \n",
    "'Oklahoma City':992543, \n",
    "'Minneapolis':2648228, \n",
    "'San Diego':2684215}"
   ]
  },
  {
   "cell_type": "markdown",
   "metadata": {},
   "source": [
    "### Longitude and Latitude of the center of the radius"
   ]
  },
  {
   "cell_type": "code",
   "execution_count": 170,
   "metadata": {},
   "outputs": [],
   "source": [
    "start_point={'new york':(40.70544486444615, -73.99429321289062),\n",
    "'chicago':(41.90515925618311, -87.67776489257812),\n",
    "'portland':(45.515785397030584, -122.65411376953125),\n",
    "'san francisco':(37.76089938976322, -122.43644714355469),\n",
    "'los angeles':(34.0615895441259, -118.32138061523438),\n",
    "'boston':(42.34784169448538, -71.07124328613281),\n",
    "'austin':(30.305156315977833, -97.75772094726562),\n",
    "'miami':(25.752753731496888, -80.2880859375),\n",
    "'san diego':(32.790569394537286, -117.15408325195312),\n",
    "'tulsa':(36.10220015729658, -95.9271240234375),\n",
    "'minneapolis':(44.96558443188442, -93.2904052734375)}"
   ]
  },
  {
   "cell_type": "code",
   "execution_count": null,
   "metadata": {},
   "outputs": [],
   "source": []
  },
  {
   "cell_type": "code",
   "execution_count": 155,
   "metadata": {},
   "outputs": [],
   "source": []
  },
  {
   "cell_type": "code",
   "execution_count": 156,
   "metadata": {},
   "outputs": [],
   "source": []
  },
  {
   "cell_type": "code",
   "execution_count": 157,
   "metadata": {},
   "outputs": [],
   "source": []
  },
  {
   "cell_type": "code",
   "execution_count": 158,
   "metadata": {},
   "outputs": [],
   "source": []
  },
  {
   "cell_type": "code",
   "execution_count": 159,
   "metadata": {},
   "outputs": [],
   "source": []
  },
  {
   "cell_type": "code",
   "execution_count": 160,
   "metadata": {},
   "outputs": [],
   "source": []
  },
  {
   "cell_type": "code",
   "execution_count": 161,
   "metadata": {},
   "outputs": [],
   "source": []
  },
  {
   "cell_type": "code",
   "execution_count": 162,
   "metadata": {},
   "outputs": [],
   "source": []
  },
  {
   "cell_type": "code",
   "execution_count": 163,
   "metadata": {},
   "outputs": [],
   "source": []
  },
  {
   "cell_type": "code",
   "execution_count": 164,
   "metadata": {},
   "outputs": [],
   "source": []
  },
  {
   "cell_type": "code",
   "execution_count": null,
   "metadata": {},
   "outputs": [],
   "source": []
  },
  {
   "cell_type": "markdown",
   "metadata": {},
   "source": [
    "two sample Z test - "
   ]
  }
 ],
 "metadata": {
  "kernelspec": {
   "display_name": "Python 3",
   "language": "python",
   "name": "python3"
  },
  "language_info": {
   "codemirror_mode": {
    "name": "ipython",
    "version": 3
   },
   "file_extension": ".py",
   "mimetype": "text/x-python",
   "name": "python",
   "nbconvert_exporter": "python",
   "pygments_lexer": "ipython3",
   "version": "3.7.1"
  }
 },
 "nbformat": 4,
 "nbformat_minor": 2
}
