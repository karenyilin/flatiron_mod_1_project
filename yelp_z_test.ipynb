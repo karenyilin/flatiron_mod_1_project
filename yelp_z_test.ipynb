{
 "cells": [
  {
   "cell_type": "markdown",
   "metadata": {},
   "source": [
    "# Two Sample Means"
   ]
  },
  {
   "cell_type": "markdown",
   "metadata": {},
   "source": [
    "Check to see if two sample means are significantly different. In other words, do the samples come from the same population. "
   ]
  },
  {
   "cell_type": "markdown",
   "metadata": {},
   "source": [
    "What is needed: \n",
    "1. Independent variabale - Qualitative\n",
    "2. dependent variable - qualitative\n",
    "\n",
    " - Review rating\n",
    " - Category Vegan or Steak \n",
    " \n",
    "Both samples must be random\n",
    "\n",
    "Population STD must be know for both population \n",
    "\n",
    "Sample larger than 30. \n",
    "\n",
    "\n"
   ]
  },
  {
   "cell_type": "markdown",
   "metadata": {},
   "source": [
    "z = - 1.645"
   ]
  },
  {
   "cell_type": "code",
   "execution_count": null,
   "metadata": {},
   "outputs": [],
   "source": [
    "import pandas as pd\n",
    "import numpy as np\n",
    "from scipy import stats\n"
   ]
  },
  {
   "cell_type": "code",
   "execution_count": null,
   "metadata": {},
   "outputs": [],
   "source": [
    "cities = ['portland','los angeles','new york','boston','chicago','austin','miami','tulsa','minneapolis','san diego','san francisco']"
   ]
  },
  {
   "cell_type": "code",
   "execution_count": null,
   "metadata": {},
   "outputs": [],
   "source": [
    "def twoSampZ(X1, X2, mudiff, sd1, sd2, n1, n2):\n",
    "    from numpy import sqrt, abs, round\n",
    "    from scipy.stats import norm\n",
    "    pooledSE = sqrt(sd1**2/n1 + sd2**2/n2)\n",
    "    z = ((X1 - X2) - mudiff)/pooledSE\n",
    "    pval = 2*(1 - norm.cdf(abs(z)))\n",
    "    return round(z, 3), round(pval, 3)\n",
    "\n"
   ]
  },
  {
   "cell_type": "code",
   "execution_count": null,
   "metadata": {},
   "outputs": [],
   "source": [
    "df = pd.read_csv(\"yelp_master_data.csv\")"
   ]
  },
  {
   "cell_type": "code",
   "execution_count": null,
   "metadata": {},
   "outputs": [],
   "source": [
    "for i in cities:\n",
    "    x1 = df.rating[(df.category == 'vegan')&(df.city == i) ].mean()\n",
    "    x2 = df.rating[(df.category == 'steak')&(df.city == i) ].mean()\n",
    "    sd1 = df.rating[(df.category == 'vegan')&(df.city == i) ].std()\n",
    "    sd2 = df.rating[(df.category == 'vegan')&(df.city == i) ].std()\n",
    "    n1 = df.rating[(df.category == 'vegan')&(df.city == i) ].count()\n",
    "    n2 = df.rating[(df.category == 'vegan')&(df.city == i) ].count()\n",
    "    print(\"\\nThe Z score for \"+ i +\" is \", twoSampZ(x1, x2, 0, sd1, sd2, n1, n2))"
   ]
  }
 ],
 "metadata": {
  "kernelspec": {
   "display_name": "learn-env",
   "language": "python",
   "name": "learn-env"
  },
  "language_info": {
   "codemirror_mode": {
    "name": "ipython",
    "version": 3
   },
   "file_extension": ".py",
   "mimetype": "text/x-python",
   "name": "python",
   "nbconvert_exporter": "python",
   "pygments_lexer": "ipython3",
   "version": "3.6.6"
  }
 },
 "nbformat": 4,
 "nbformat_minor": 2
}
