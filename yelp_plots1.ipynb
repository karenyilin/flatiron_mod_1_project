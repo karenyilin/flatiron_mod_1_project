{
 "cells": [
  {
   "cell_type": "markdown",
   "metadata": {},
   "source": [
    "# Exploratory Data Analysis"
   ]
  },
  {
   "cell_type": "markdown",
   "metadata": {},
   "source": [
    "Here will will explore various views of our Yelp_Api data in order to discover insights about our two food types in each region."
   ]
  },
  {
   "cell_type": "markdown",
   "metadata": {},
   "source": [
    "To begin, we import the CSV file we saved from the previous yelp_api script."
   ]
  },
  {
   "cell_type": "code",
   "execution_count": null,
   "metadata": {},
   "outputs": [],
   "source": [
    "import pandas as pd\n",
    "import matplotlib.pyplot as plt\n",
    "%matplotlib notebook\n",
    "import seaborn as sns\n",
    "import numpy as np  \n",
    "import folium\n",
    "from folium.plugins import MarkerCluster\n",
    "import requests\n",
    "from matplotlib.ticker import MaxNLocator\n",
    "from collections import namedtuple"
   ]
  },
  {
   "cell_type": "code",
   "execution_count": null,
   "metadata": {},
   "outputs": [],
   "source": [
    "df = pd.read_csv(\"yelp_master_data.csv\")"
   ]
  },
  {
   "cell_type": "code",
   "execution_count": null,
   "metadata": {},
   "outputs": [],
   "source": [
    "df.head()"
   ]
  },
  {
   "cell_type": "code",
   "execution_count": null,
   "metadata": {},
   "outputs": [],
   "source": [
    "df.info()"
   ]
  },
  {
   "cell_type": "markdown",
   "metadata": {},
   "source": [
    "# Summary Analysis"
   ]
  },
  {
   "cell_type": "markdown",
   "metadata": {},
   "source": [
    "We create a new DataFrame with just summary statistics to allow us to see quick comparisons by city."
   ]
  },
  {
   "cell_type": "markdown",
   "metadata": {},
   "source": [
    "### Population of matching 40km radius"
   ]
  },
  {
   "cell_type": "code",
   "execution_count": null,
   "metadata": {},
   "outputs": [],
   "source": [
    "pop = {'Portland':1907395, \n",
    "'Los Angeles':10055380, \n",
    "'New York City':13409590, \n",
    "'Boston':3342667, \n",
    "'Chicago':6377851, \n",
    "'Austin':1142575, \n",
    "'Miami':3140501, \n",
    "'Tulsa':757571, \n",
    "'Minneapolis':2648228, \n",
    "'San Diego':2684215,\n",
    "'san francisco':5027241}"
   ]
  },
  {
   "cell_type": "code",
   "execution_count": null,
   "metadata": {},
   "outputs": [],
   "source": [
    "# creating a new dataframed named cities_df\n",
    "cities = ['portland','los angeles','new york','boston','chicago','austin','miami','tulsa','minneapolis','san diego','san francisco']\n"
   ]
  },
  {
   "cell_type": "code",
   "execution_count": null,
   "metadata": {},
   "outputs": [],
   "source": [
    "def get_number_of_restaurants(city,restaurant_type):\n",
    "    return df.loc[(df['city'] == city) & (df['category'] == restaurant_type)].shape[0]"
   ]
  },
  {
   "cell_type": "code",
   "execution_count": null,
   "metadata": {},
   "outputs": [],
   "source": [
    "# create a function that sums price per city per category: vegan, steak\n",
    "def get_sum(city,restaurant_type):\n",
    "    return df.loc[(df['city'] == city) & (df['category'] == restaurant_type)].price.sum()"
   ]
  },
  {
   "cell_type": "code",
   "execution_count": null,
   "metadata": {},
   "outputs": [],
   "source": [
    "cities_df = pd.DataFrame({'city':cities})\n",
    "\n",
    "#adding vegan_count column to cities_df dataframe\n",
    "cities_df['veg_count'] = cities_df['city'].map(lambda x :get_number_of_restaurants(x,'vegan') )\n",
    "\n",
    "#adding steak_count column to cities_df dataframe\n",
    "cities_df['steak_count'] = cities_df['city'].map(lambda x :get_number_of_restaurants(x,'steak') )\n",
    "\n",
    "# adding a population column to cities_df dataframe\n",
    "cities_df['pop'] = [float(x) for x in list(pop.values())]\n",
    "\n",
    "# adding a per capita column to cities_df dataframe to give steak restaurants per capita per city\n",
    "cities_df['steak_capita'] = cities_df['steak_count'] / cities_df['pop']\n",
    "cities_df['veg_capita'] = cities_df['veg_count'] / cities_df['pop']\n",
    "\n",
    "cities_df['steak_rating_mean'] = cities_df['city'].map(lambda x :get_sum(x,'steak') )/cities_df['steak_count']\n",
    "cities_df['veg_rating_mean'] = cities_df['city'].map(lambda x :get_sum(x,'vegan') )/ cities_df['veg_count']\n",
    "\n",
    "# adding price sum column per city for steak restaurants\n",
    "cities_df['steak_$mean'] = cities_df['city'].map(lambda x :get_sum(x,'steak') )/ cities_df['steak_count']\n",
    "cities_df['veg_$mean'] = cities_df['city'].map(lambda x :get_sum(x,'vegan') )/ cities_df['veg_count']\n",
    "\n",
    "\n",
    "# adding longitude and latitude to cities_df dataframe\n",
    "cities_df['latitude'] = df.latitude\n",
    "cities_df['longitude'] = df.longitude\n",
    "\n",
    "#setting the index to the city\n",
    "cities_df.set_index('city', drop=True, inplace=True)"
   ]
  },
  {
   "cell_type": "code",
   "execution_count": null,
   "metadata": {},
   "outputs": [],
   "source": [
    "cities_df.head(15)\n"
   ]
  },
  {
   "cell_type": "code",
   "execution_count": null,
   "metadata": {},
   "outputs": [],
   "source": [
    "# setting up the folium map with longitude and latitude\n",
    "map_hooray = folium.Map(location = [36.10220015729658, -95.9271240234375], tiles=\"Stamen Terrain\",\n",
    "                    zoom_start = 4)\n",
    "\n",
    "# adding 11 city markers\n",
    "folium.Marker(\n",
    "    location=[45.515785397030584, -122.65411376953125],\n",
    "    popup='Portland',\n",
    "    icon=folium.Icon(color='green')\n",
    ").add_to(map_hooray)\n",
    "\n",
    "folium.Marker(\n",
    "    location=[34.0615895441259, -118.32138061523438],\n",
    "    popup='Los Angeles',\n",
    "    icon=folium.Icon(color='green')\n",
    ").add_to(map_hooray)\n",
    "\n",
    "folium.Marker(\n",
    "    location=[40.70544486444615, -73.99429321289062],\n",
    "    popup='New York City',\n",
    "    icon=folium.Icon(color='green')\n",
    ").add_to(map_hooray)\n",
    "\n",
    "folium.Marker(\n",
    "    location=[42.34784169448538, -71.07124328613281],\n",
    "    popup='Boston',\n",
    "    icon=folium.Icon(color='green')\n",
    ").add_to(map_hooray)\n",
    "\n",
    "folium.Marker(\n",
    "    location=[41.90515925618311, -87.67776489257812],\n",
    "    popup='Chicago',\n",
    "    icon=folium.Icon(color='green')\n",
    ").add_to(map_hooray)\n",
    "\n",
    "folium.Marker(\n",
    "    location=[30.305156315977833, -97.75772094726562],\n",
    "    popup='Austin',\n",
    "    icon=folium.Icon(color='green')\n",
    ").add_to(map_hooray)\n",
    "\n",
    "folium.Marker(\n",
    "    location=[25.752753731496888, -80.2880859375],\n",
    "    popup='Miami',\n",
    "    icon=folium.Icon(color='green')\n",
    ").add_to(map_hooray)\n",
    "\n",
    "\n",
    "folium.Marker(\n",
    "    location=[36.10220015729658, -95.9271240234375],\n",
    "    popup='Tulsa',\n",
    "    icon=folium.Icon(color='green')\n",
    ").add_to(map_hooray)\n",
    "\n",
    "\n",
    "folium.Marker(\n",
    "    location=[44.96558443188442, -93.2904052734375],\n",
    "    popup='Minneapolis',\n",
    "    icon=folium.Icon(color='green')\n",
    ").add_to(map_hooray)\n",
    "\n",
    "folium.Marker(\n",
    "    location=[32.790569394537286, -117.15408325195312],\n",
    "    popup='San Diego',\n",
    "    icon=folium.Icon(color='green')\n",
    ").add_to(map_hooray)\n",
    "\n",
    "\n",
    "folium.Marker(\n",
    "    location=[37.76089938976322, -122.43644714355469],\n",
    "    popup='San Francisco',\n",
    "    icon=folium.Icon(color='green')\n",
    ").add_to(map_hooray)\n",
    "\n",
    "\n",
    "# setting up MarkerCluster\n",
    "marker_cluster = MarkerCluster().add_to(map_hooray)\n",
    "\n",
    "# preparing dataset\n",
    "locations = df[['latitude', 'longitude']]\n",
    "locationlist = locations.values.tolist()\n",
    "\n",
    "# assigning the total vegan, steak restaurants to each city in MarkerCluster\n",
    "for point in range(0, len(locationlist)):\n",
    "    folium.Marker(locationlist[point], popup=df['name'][point]).add_to(marker_cluster)\n",
    "\n",
    "              \n",
    "map_hooray\n"
   ]
  },
  {
   "cell_type": "code",
   "execution_count": null,
   "metadata": {},
   "outputs": [],
   "source": [
    "\n",
    "# creating a bar chart to show no. of restaurants by city and category: steak/vegan\n",
    "\n",
    "n_groups = 11\n",
    "\n",
    "# restaurant sum Port, LA, NY, Bos, Chi, Aus, Miami, Tulsa, Minn, SD, SF\n",
    "vegan_count = (102, 137, 238, 36, 56, 53, 32, 5, 16, 46, 33)\n",
    "steak_count = (30, 68, 243, 47, 97, 31, 73, 33, 27, 51, 39)\n",
    "\n",
    "# setting up the bar chart\n",
    "fig, ax = plt.subplots(figsize=(11, 5))\n",
    "\n",
    "index = np.arange(n_groups)\n",
    "bar_width = .35\n",
    "\n",
    "opacity = 0.8\n",
    "error_config = {'ecolor': '.3'}\n",
    "\n",
    "rects1 = ax.bar(index, vegan_count, bar_width,\n",
    "                alpha=opacity, color='#00ACAD',\n",
    "                error_kw=error_config,\n",
    "                label='Vegan')\n",
    "\n",
    "rects2 = ax.bar(index + bar_width, steak_count, bar_width,\n",
    "                alpha=opacity, color='#000064',\n",
    "                error_kw=error_config,\n",
    "                label='Steak')\n",
    "\n",
    "# setting up labels\n",
    "ax.set_xlabel('Cities')\n",
    "ax.set_ylabel('Count')\n",
    "ax.set_title('Restaurant Count by Vegan, Steak Across 11 Cities')\n",
    "ax.set_xticks(index + bar_width / 2)\n",
    "ax.set_xticklabels(('Portland', 'LA', 'NY', 'Bost', 'Chicago', 'Austin', 'Miami', 'Tulsa', 'Minneapolis', 'SD', 'SF'))\n",
    "ax.legend()\n",
    "\n",
    "# adding bar height\n",
    "def autolabel(rects):\n",
    "    \"\"\"\n",
    "    Attach a text label above each bar displaying its height\n",
    "    \"\"\"\n",
    "    for rect in rects:\n",
    "        height = rect.get_height()\n",
    "        ax.text(rect.get_x() + rect.get_width()/2., 1.01*height,\n",
    "                '%d' % int(height),\n",
    "                ha='center', va='bottom')\n",
    "\n",
    "autolabel(rects1)\n",
    "autolabel(rects2)\n",
    "plt.ylim((0,300))\n",
    "\n",
    "plt.show()\n",
    "\n"
   ]
  },
  {
   "cell_type": "code",
   "execution_count": null,
   "metadata": {},
   "outputs": [],
   "source": [
    "#vegan, steak colors\n",
    "#colors = [‘rgb(0, 0, 100)’, ‘rgb(0, 200, 200)’]\n",
    "# creating a bar chart to show restaurant per capita by city and category: steak/vegan\n",
    "\n",
    "n_groups = 11\n",
    "\n",
    "# per capita Port, LA, NY, Bos, Chi, Aus, Miami, Tulsa, Minn, SD, SF\n",
    "vegan_per_capita = (0.000053, 0.000014, 0.000018, 0.000011, 0.000009, 0.000046, 0.000010, 0.000007, 0.000006, 0.000017, 0.000007)\n",
    "steak_per_capita = (0.000016, 0.000007, 0.000018, 0.000014, 0.000015, 0.000027, 0.000023, 0.000044, 0.000010, 0.000019, 0.000008)\n",
    "\n",
    "\n",
    "# setting up the bar chart\n",
    "fig, ax = plt.subplots(figsize=(11, 5))\n",
    "\n",
    "index = np.arange(n_groups)\n",
    "bar_width = .35\n",
    "\n",
    "opacity = 0.8\n",
    "error_config = {'ecolor': '.3'}\n",
    "\n",
    "rects3 = ax.bar(index, vegan_per_capita, bar_width,\n",
    "                alpha=opacity, color='#00ACAD',\n",
    "                error_kw=error_config,\n",
    "                label='Vegan')\n",
    "\n",
    "rects4 = ax.bar(index + bar_width, steak_per_capita, bar_width,\n",
    "                alpha=opacity, color='#000064',\n",
    "                error_kw=error_config,\n",
    "                label='Steak')\n",
    "\n",
    "# setting up labels\n",
    "ax.set_xlabel('Cities')\n",
    "ax.set_ylabel('Per Capita')\n",
    "ax.set_title('Restaurant per Capita by Vegan, Steak Across 11 Cities')\n",
    "ax.set_xticks(index + bar_width / 2)\n",
    "ax.set_xticklabels(('Portland', 'LA', 'NY', 'Bost', 'Chicago', 'Austin', 'Miami', 'Tulsa', 'Minneapolis', 'SD', 'SF'))\n",
    "ax.legend()\n",
    "\n",
    "\n",
    "\n",
    "plt.show()\n"
   ]
  },
  {
   "cell_type": "code",
   "execution_count": null,
   "metadata": {},
   "outputs": [],
   "source": [
    "pop = {'Portland':1907395, \n",
    "'Los Angeles':10055380, \n",
    "'New York City':13409590, \n",
    "'Boston':3342667, \n",
    "'Chicago':6377851, \n",
    "'Austin':1142575, \n",
    "'miami':3140501, \n",
    "'tulsa':757571, \n",
    "'Minneapolis':2648228, \n",
    "'San Diego':2684215}"
   ]
  }
 ],
 "metadata": {
  "kernelspec": {
   "display_name": "learn-env",
   "language": "python",
   "name": "learn-env"
  },
  "language_info": {
   "codemirror_mode": {
    "name": "ipython",
    "version": 3
   },
   "file_extension": ".py",
   "mimetype": "text/x-python",
   "name": "python",
   "nbconvert_exporter": "python",
   "pygments_lexer": "ipython3",
   "version": "3.6.6"
  }
 },
 "nbformat": 4,
 "nbformat_minor": 2
}
