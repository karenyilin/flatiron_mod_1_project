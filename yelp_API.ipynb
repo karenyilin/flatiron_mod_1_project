{
 "cells": [
  {
   "cell_type": "markdown",
   "metadata": {},
   "source": [
    "# Module 1 Project \n"
   ]
  },
  {
   "cell_type": "markdown",
   "metadata": {},
   "source": [
    "Flatiron School Data Science immersive January 28 Cohort\n"
   ]
  },
  {
   "cell_type": "markdown",
   "metadata": {},
   "source": [
    "This project asks to collect data either through API calls or webscraping, put them in tabular format, and create visualizations and exploratory analysis to tell a story of these data."
   ]
  },
  {
   "cell_type": "markdown",
   "metadata": {},
   "source": [
    "Karen Lin and Derrick Lewis collaborated on this project to collect data regarding Vegan vs. Steak Restaurants from 10 cities in the United States. The goal was to look for comparisons between these nearly opposite foods. We will look for restaturant density, price disparity and local sentiment through ratings. "
   ]
  },
  {
   "cell_type": "markdown",
   "metadata": {},
   "source": [
    "To begin we will import data from the Yelp API. "
   ]
  },
  {
   "cell_type": "markdown",
   "metadata": {},
   "source": [
    "This process will require several python libraries. The first \"requests\" will allow us to the \"get\" function which will organize the url, paramaters and identification key to our digital request. Next is Pandas to create DataFrames to orgnaize the data. We'll use math to create a special version of round which rounds up to the nearest integer. Lastly, we import OS to pull our API Key from our profile instead of saving it to this code. "
   ]
  },
  {
   "cell_type": "code",
   "execution_count": null,
   "metadata": {},
   "outputs": [],
   "source": [
    "import requests\n",
    "import pandas as pd\n",
    "import math\n",
    "import os\n",
    "import csv"
   ]
  },
  {
   "cell_type": "markdown",
   "metadata": {},
   "source": [
    "## The Function to pull from the API"
   ]
  },
  {
   "cell_type": "markdown",
   "metadata": {},
   "source": [
    "Next we will build our request function. The restrictions on the Yelp API will limit our results to just 50 businesses. As most urban areas have more restaurants available we will need to create a loop to make multiple requests each time at a new starting point in the list. "
   ]
  },
  {
   "cell_type": "markdown",
   "metadata": {},
   "source": [
    "### Criteria"
   ]
  },
  {
   "cell_type": "markdown",
   "metadata": {},
   "source": [
    "With some early tests directly on the Yelp website, we found more distinct results from a category search rather than searching for term across the entire data set. This returns restaurants with specific tags for that category. "
   ]
  },
  {
   "cell_type": "markdown",
   "metadata": {},
   "source": [
    "### Area"
   ]
  },
  {
   "cell_type": "markdown",
   "metadata": {},
   "source": [
    "To create a uniform comparison we decided to look at an exact 40 km radius starting from each urban center. We will pair this with population data from [Freemaptools.com](https://www.freemaptools.com/find-population.htm). Which creates population estimates of a specific radius from a starting point. "
   ]
  },
  {
   "cell_type": "markdown",
   "metadata": {},
   "source": []
  },
  {
   "cell_type": "code",
   "execution_count": null,
   "metadata": {},
   "outputs": [],
   "source": [
    "client_id = os.environ.get('YELP_ID')\n",
    "api_key = os.environ.get('YELP_KEY')\n",
    "\n",
    "url = 'https://api.yelp.com/v3/businesses/search'\n",
    "headers = {\n",
    "        'Authorization': 'Bearer {}'.format(api_key),\n",
    "    }\n",
    "\n",
    "\n",
    "def yelp_pull(cat, lat, lon):\n",
    "    '''explain this:\n",
    "    INPUTS: \n",
    "    OUTPUTS: returns a list of dictionaries for each restaurant \n",
    "    '''\n",
    "    #do an initial request to get the total availble results.\n",
    "    results = 0\n",
    "    offset = 0\n",
    "    url_params = {\n",
    "                     'term': 'restaurants',\n",
    "                     'limit': 50,\n",
    "                     'categories': str(cat),\n",
    "                     'offset': offset,\n",
    "                     'latitude':lat,\n",
    "                     'longitude':lon,\n",
    "                     'radius':40000\n",
    "                      }      \n",
    "    response = requests.get(url, headers=headers, params=url_params)\n",
    "    results = response.json()['total']\n",
    "    \n",
    "    \n",
    "    temp_list= []\n",
    "    rng = math.ceil(results/50)\n",
    "    print(rng)\n",
    "    for i in range(0,rng):\n",
    "        print(offset)\n",
    "        url_params = {\n",
    "                     'term': 'restaurants',\n",
    "                     'limit': 50,\n",
    "                     'categories': str(cat),\n",
    "                     'offset': offset,\n",
    "                     'latitude':lat,\n",
    "                     'longitude':lon,\n",
    "                     'radius':40000\n",
    "                      }\n",
    "        \n",
    "        \n",
    "        response = requests.get(url, headers=headers, params=url_params)\n",
    "        results = response.json()['total']\n",
    "        for x in range(len(response.json()['businesses'])):\n",
    "                 temp_list.append(response.json()['businesses'][x])\n",
    "        offset +=50\n",
    "    return temp_list"
   ]
  },
  {
   "cell_type": "markdown",
   "metadata": {},
   "source": [
    "### Pulling data for each city and food type:"
   ]
  },
  {
   "cell_type": "markdown",
   "metadata": {},
   "source": [
    "List of each city and it's coordinates of it's center (as determined by yelp): "
   ]
  },
  {
   "cell_type": "code",
   "execution_count": null,
   "metadata": {},
   "outputs": [],
   "source": [
    "start_point={'new york':(40.70544486444615, -73.99429321289062),\n",
    "'chicago':(41.90515925618311, -87.67776489257812),\n",
    "'portland':(45.515785397030584, -122.65411376953125),\n",
    "'san francisco':(37.796069, -122.341047),\n",
    "'los angeles':(34.0615895441259, -118.32138061523438),\n",
    "'boston':(42.34784169448538, -71.07124328613281),\n",
    "'austin':(30.305156315977833, -97.75772094726562),\n",
    "'miami':(25.752753731496888, -80.2880859375),\n",
    "'san diego':(32.790569394537286, -117.15408325195312),\n",
    "'tulsa':(36.10220015729658, -95.9271240234375),\n",
    "'minneapolis':(44.96558443188442, -93.2904052734375)}\n",
    "\n",
    "\n",
    "#'san francisco':(37.76089938976322, -122.43644714355469)"
   ]
  },
  {
   "cell_type": "code",
   "execution_count": null,
   "metadata": {},
   "outputs": [],
   "source": [
    "nyc_veg_list = yelp_pull('vegan', start_point['new york'][0], start_point['new york'][1])"
   ]
  },
  {
   "cell_type": "code",
   "execution_count": null,
   "metadata": {},
   "outputs": [],
   "source": [
    "nyc_stk_list = yelp_pull('steak', start_point['new york'][0], start_point['new york'][1])"
   ]
  },
  {
   "cell_type": "code",
   "execution_count": null,
   "metadata": {},
   "outputs": [],
   "source": [
    "chi_veg_list = yelp_pull('vegan', start_point['chicago'][0], start_point['chicago'][1])"
   ]
  },
  {
   "cell_type": "code",
   "execution_count": null,
   "metadata": {},
   "outputs": [],
   "source": [
    "chi_stk_list = yelp_pull('steak', start_point['chicago'][0], start_point['chicago'][1])"
   ]
  },
  {
   "cell_type": "code",
   "execution_count": null,
   "metadata": {},
   "outputs": [],
   "source": [
    "pdx_veg_list = yelp_pull('vegan', start_point['portland'][0], start_point['portland'][1])"
   ]
  },
  {
   "cell_type": "code",
   "execution_count": null,
   "metadata": {},
   "outputs": [],
   "source": [
    "pdx_stk_list = yelp_pull('steak', start_point['portland'][0], start_point['portland'][1])"
   ]
  },
  {
   "cell_type": "code",
   "execution_count": null,
   "metadata": {},
   "outputs": [],
   "source": [
    "sf_veg_list = yelp_pull('vegan', start_point['san francisco'][0], start_point['san francisco'][1])"
   ]
  },
  {
   "cell_type": "code",
   "execution_count": null,
   "metadata": {},
   "outputs": [],
   "source": [
    "sf_stk_list = yelp_pull('steak', start_point['san francisco'][0], start_point['san francisco'][1])"
   ]
  },
  {
   "cell_type": "code",
   "execution_count": null,
   "metadata": {},
   "outputs": [],
   "source": [
    "la_veg_list = yelp_pull('vegan', start_point['los angeles'][0], start_point['los angeles'][1])"
   ]
  },
  {
   "cell_type": "code",
   "execution_count": null,
   "metadata": {},
   "outputs": [],
   "source": [
    "la_stk_list = yelp_pull('steak', start_point['los angeles'][0], start_point['los angeles'][1])"
   ]
  },
  {
   "cell_type": "code",
   "execution_count": null,
   "metadata": {},
   "outputs": [],
   "source": [
    "bos_veg_list = yelp_pull('vegan', start_point['boston'][0], start_point['boston'][1])"
   ]
  },
  {
   "cell_type": "code",
   "execution_count": null,
   "metadata": {},
   "outputs": [],
   "source": [
    "bos_stk_list = yelp_pull('steak', start_point['boston'][0], start_point['boston'][1])"
   ]
  },
  {
   "cell_type": "code",
   "execution_count": null,
   "metadata": {},
   "outputs": [],
   "source": [
    "atx_veg_list = yelp_pull('vegan', start_point['austin'][0], start_point['austin'][1])"
   ]
  },
  {
   "cell_type": "code",
   "execution_count": null,
   "metadata": {},
   "outputs": [],
   "source": [
    "atx_stk_list = yelp_pull('steak', start_point['austin'][0], start_point['austin'][1])"
   ]
  },
  {
   "cell_type": "code",
   "execution_count": null,
   "metadata": {},
   "outputs": [],
   "source": [
    "mia_veg_list = yelp_pull('vegan', start_point['miami'][0], start_point['miami'][1])"
   ]
  },
  {
   "cell_type": "code",
   "execution_count": null,
   "metadata": {},
   "outputs": [],
   "source": [
    "mia_stk_list = yelp_pull('steak', start_point['miami'][0], start_point['miami'][1])"
   ]
  },
  {
   "cell_type": "code",
   "execution_count": null,
   "metadata": {},
   "outputs": [],
   "source": [
    "snd_veg_list = yelp_pull('vegan', start_point['san diego'][0], start_point['san diego'][1])"
   ]
  },
  {
   "cell_type": "code",
   "execution_count": null,
   "metadata": {},
   "outputs": [],
   "source": [
    "snd_stk_list = yelp_pull('steak', start_point['san diego'][0], start_point['san diego'][1])"
   ]
  },
  {
   "cell_type": "code",
   "execution_count": null,
   "metadata": {},
   "outputs": [],
   "source": [
    "tls_veg_list = yelp_pull('vegan', start_point['tulsa'][0], start_point['tulsa'][1])"
   ]
  },
  {
   "cell_type": "code",
   "execution_count": null,
   "metadata": {},
   "outputs": [],
   "source": [
    "tls_stk_list = yelp_pull('steak', start_point['tulsa'][0], start_point['tulsa'][1])"
   ]
  },
  {
   "cell_type": "code",
   "execution_count": null,
   "metadata": {},
   "outputs": [],
   "source": [
    "msp_veg_list = yelp_pull('vegan', start_point['minneapolis'][0], start_point['minneapolis'][1])"
   ]
  },
  {
   "cell_type": "code",
   "execution_count": null,
   "metadata": {},
   "outputs": [],
   "source": [
    "msp_stk_list = yelp_pull('steak', start_point['minneapolis'][0], start_point['minneapolis'][1])"
   ]
  },
  {
   "cell_type": "code",
   "execution_count": null,
   "metadata": {},
   "outputs": [],
   "source": [
    "sf_veg_list = yelp_pull('vegan', start_point['san francisco'][0], start_point['san francisco'][1])"
   ]
  },
  {
   "cell_type": "code",
   "execution_count": null,
   "metadata": {},
   "outputs": [],
   "source": [
    "sf_stk_list = yelp_pull('steak', start_point['san francisco'][0], start_point['san francisco'][1])"
   ]
  },
  {
   "cell_type": "code",
   "execution_count": null,
   "metadata": {},
   "outputs": [],
   "source": [
    "type_list= ['vegan', 'steak',\n",
    "            'vegan', 'steak',\n",
    "            'vegan', 'steak',\n",
    "            'vegan', 'steak',\n",
    "            'vegan', 'steak',\n",
    "            'vegan', 'steak',\n",
    "            'vegan', 'steak',\n",
    "            'vegan', 'steak',\n",
    "            'vegan', 'steak',\n",
    "            'vegan', 'steak',\n",
    "            'vegan', 'steak']"
   ]
  },
  {
   "cell_type": "code",
   "execution_count": null,
   "metadata": {},
   "outputs": [],
   "source": [
    "city_list=['new york','new york', \n",
    "           'chicago', 'chicago', \n",
    "           'portland','portland',\n",
    "           'san francisco','san francisco', \n",
    "           'los angeles','los angeles',\n",
    "           'boston','boston',\n",
    "           'austin','austin',\n",
    "           'miami','miami',\n",
    "           'san diego','san diego',\n",
    "           'tulsa','tulsa',\n",
    "           'minneapolis','minneapolis']"
   ]
  },
  {
   "cell_type": "code",
   "execution_count": null,
   "metadata": {},
   "outputs": [],
   "source": [
    "yelp_list= [nyc_veg_list, nyc_stk_list, \n",
    "            chi_veg_list, chi_stk_list, \n",
    "            pdx_veg_list, pdx_stk_list,\n",
    "            sf_veg_list, sf_stk_list,\n",
    "            la_veg_list, la_stk_list,\n",
    "            bos_veg_list, bos_stk_list,\n",
    "            atx_veg_list, atx_stk_list,\n",
    "            mia_veg_list, mia_stk_list,\n",
    "            snd_veg_list, snd_stk_list,\n",
    "            tls_veg_list, tls_stk_list,\n",
    "            msp_veg_list, msp_stk_list]"
   ]
  },
  {
   "cell_type": "markdown",
   "metadata": {},
   "source": [
    "    Combine all 22 lists into one list to be cleaned:"
   ]
  },
  {
   "cell_type": "markdown",
   "metadata": {},
   "source": [
    "# Cleaning the data"
   ]
  },
  {
   "cell_type": "markdown",
   "metadata": {},
   "source": [
    "    Step 1: Start a master DataFrame to hold all the results:"
   ]
  },
  {
   "cell_type": "code",
   "execution_count": null,
   "metadata": {},
   "outputs": [],
   "source": [
    "yelp_master_data = pd.DataFrame()"
   ]
  },
  {
   "cell_type": "markdown",
   "metadata": {},
   "source": [
    "    Step 2: Create a DataFrame from an list above."
   ]
  },
  {
   "cell_type": "code",
   "execution_count": null,
   "metadata": {},
   "outputs": [],
   "source": [
    "chi_df = pd.DataFrame(chi_veg_list)"
   ]
  },
  {
   "cell_type": "markdown",
   "metadata": {},
   "source": [
    "    Step 3: Create a column to label the city:"
   ]
  },
  {
   "cell_type": "code",
   "execution_count": null,
   "metadata": {},
   "outputs": [],
   "source": [
    "chi_df['city']='chicago'"
   ]
  },
  {
   "cell_type": "markdown",
   "metadata": {},
   "source": [
    "    Step 4: Add a collumn to the dataframe with the specific food type"
   ]
  },
  {
   "cell_type": "code",
   "execution_count": null,
   "metadata": {},
   "outputs": [],
   "source": [
    "chi_df['category']='vegan'"
   ]
  },
  {
   "cell_type": "markdown",
   "metadata": {},
   "source": [
    "    Step 5: Create a new collumn to convert number of $$ to an integer."
   ]
  },
  {
   "cell_type": "code",
   "execution_count": null,
   "metadata": {},
   "outputs": [],
   "source": [
    "chi_df['price']= chi_df['price'].map(lambda x: len(x), na_action='ignore')"
   ]
  },
  {
   "cell_type": "markdown",
   "metadata": {},
   "source": [
    "    Step 6: Create a mean of the Price collumn"
   ]
  },
  {
   "cell_type": "code",
   "execution_count": null,
   "metadata": {},
   "outputs": [],
   "source": [
    "mean = chi_df['price'].mean()"
   ]
  },
  {
   "cell_type": "markdown",
   "metadata": {},
   "source": [
    "    Step 7: Add that mean to the rows with missing values"
   ]
  },
  {
   "cell_type": "code",
   "execution_count": null,
   "metadata": {},
   "outputs": [],
   "source": [
    "chi_df['price'].fillna(mean, inplace=True)"
   ]
  },
  {
   "cell_type": "markdown",
   "metadata": {},
   "source": [
    "    Step 8: Convert coordinates into two distinct collumns"
   ]
  },
  {
   "cell_type": "code",
   "execution_count": null,
   "metadata": {},
   "outputs": [],
   "source": [
    "df2 = chi_df[\"coordinates\"].apply(pd.Series)"
   ]
  },
  {
   "cell_type": "code",
   "execution_count": null,
   "metadata": {},
   "outputs": [],
   "source": [
    "chi_df = pd.concat([chi_df, df2], axis = 1)"
   ]
  },
  {
   "cell_type": "markdown",
   "metadata": {},
   "source": [
    "    Step 9: drop all the colums we don't need."
   ]
  },
  {
   "cell_type": "code",
   "execution_count": null,
   "metadata": {},
   "outputs": [],
   "source": [
    "chi_df.drop(['coordinates''phone','display_phone','alias','distance', 'id', 'image_url', 'is_closed','location', 'transactions','categories', 'url'], axis = 'columns', inplace=True)\n",
    "\n"
   ]
  },
  {
   "cell_type": "markdown",
   "metadata": {},
   "source": [
    "    Step 10: Concat this clean DataFrame to the master DataFrame. "
   ]
  },
  {
   "cell_type": "code",
   "execution_count": null,
   "metadata": {},
   "outputs": [],
   "source": [
    "master_df = pd.concat([master_df, chi_df])"
   ]
  },
  {
   "cell_type": "markdown",
   "metadata": {},
   "source": [
    "   ### Combine all 8 steps into one function to clean all 22 lists:"
   ]
  },
  {
   "cell_type": "code",
   "execution_count": null,
   "metadata": {},
   "outputs": [],
   "source": [
    "def yelp_clean(yelp_lst, type_lst, city_lst):\n",
    "    yelp_master_data1 = pd.DataFrame()\n",
    "    for i in range(len(yelp_lst)):\n",
    "        temp_df = pd.DataFrame(yelp_lst[i])\n",
    "        temp_df['category']=type_lst[i]\n",
    "        temp_df['city']=city_lst[i]\n",
    "        temp_df['price']= temp_df['price'].map(lambda x: len(x), na_action='ignore')\n",
    "        mean = temp_df['price'].mean()\n",
    "        temp_df['price'].fillna(mean, inplace=True)\n",
    "        temp2 = temp_df[\"coordinates\"].apply(pd.Series)\n",
    "        temp_df = pd.concat([temp_df, temp2], axis = 1)\n",
    "        temp_df.drop(['coordinates','phone','display_phone','alias','distance', 'id', 'image_url', 'is_closed','location', 'transactions','categories', 'url'], axis = 'columns', inplace=True)\n",
    "        yelp_master_data1 = pd.concat([yelp_master_data1, temp_df])\n",
    "    return yelp_master_data1\n",
    "\n",
    "    \n",
    "    \n",
    "    "
   ]
  },
  {
   "cell_type": "code",
   "execution_count": null,
   "metadata": {},
   "outputs": [],
   "source": [
    "yelp_master_data = yelp_clean(yelp_list, type_list, city_list)"
   ]
  },
  {
   "cell_type": "markdown",
   "metadata": {},
   "source": [
    "### Save the Master DataFrame to a csv: "
   ]
  },
  {
   "cell_type": "code",
   "execution_count": null,
   "metadata": {},
   "outputs": [],
   "source": [
    "yelp_master_data.to_csv('yelp_master_data.csv')"
   ]
  }
 ],
 "metadata": {
  "kernelspec": {
   "display_name": "Python 3",
   "language": "python",
   "name": "python3"
  },
  "language_info": {
   "codemirror_mode": {
    "name": "ipython",
    "version": 3
   },
   "file_extension": ".py",
   "mimetype": "text/x-python",
   "name": "python",
   "nbconvert_exporter": "python",
   "pygments_lexer": "ipython3",
   "version": "3.7.1"
  }
 },
 "nbformat": 4,
 "nbformat_minor": 2
}
