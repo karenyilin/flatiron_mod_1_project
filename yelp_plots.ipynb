{
 "cells": [
  {
   "cell_type": "markdown",
   "metadata": {},
   "source": [
    "# Exploratory Data Analysis"
   ]
  },
  {
   "cell_type": "markdown",
   "metadata": {},
   "source": [
    "Here will will explore various views of our Yelp_Api data in order to discover insights about our two food types in each region."
   ]
  },
  {
   "cell_type": "markdown",
   "metadata": {},
   "source": [
    "To begin, we import the CSV file we saved from the previous yelp_api script."
   ]
  },
  {
   "cell_type": "code",
   "execution_count": 1,
   "metadata": {},
   "outputs": [],
   "source": [
    "import pandas as pd\n",
    "import matplotlib.pyplot as plt\n",
    "%matplotlib notebook\n",
    "import seaborn as sns"
   ]
  },
  {
   "cell_type": "code",
   "execution_count": 2,
   "metadata": {},
   "outputs": [],
   "source": [
    "df = pd.read_csv(\"yelp_master_data.csv\")"
   ]
  },
  {
   "cell_type": "code",
   "execution_count": null,
   "metadata": {},
   "outputs": [],
   "source": [
    "df.describe()"
   ]
  },
  {
   "cell_type": "code",
   "execution_count": null,
   "metadata": {},
   "outputs": [],
   "source": [
    "df.info()"
   ]
  },
  {
   "cell_type": "code",
   "execution_count": null,
   "metadata": {},
   "outputs": [],
   "source": [
    "df.category.value_counts().plot(kind='bar')\n",
    "plt.title('Total Restaurants In the Survey')"
   ]
  },
  {
   "cell_type": "code",
   "execution_count": null,
   "metadata": {},
   "outputs": [],
   "source": [
    "df[(df.city =='chicago') & (df.category == 'vegan')].price.sum()/df[(df.city =='chicago') & (df.category == 'vegan')]['Unnamed: 0'].max()\n",
    "\n"
   ]
  },
  {
   "cell_type": "code",
   "execution_count": null,
   "metadata": {},
   "outputs": [],
   "source": [
    "df[(df.city =='minneapolis') & (df.category == 'steak')].price.sum()/df[(df.city =='minneapolis') & (df.category == 'steak')]['Unnamed: 0'].max()\n",
    "\n",
    "\n"
   ]
  },
  {
   "cell_type": "code",
   "execution_count": null,
   "metadata": {},
   "outputs": [],
   "source": [
    "df[(df.city =='chicago') & (df.category == 'vegan')].price.sum()"
   ]
  },
  {
   "cell_type": "code",
   "execution_count": null,
   "metadata": {},
   "outputs": [],
   "source": [
    "sns.distplot(df[(df.city =='chicago') & (df.category == 'steak')].price, hist=True)\n",
    "sns.distplot(df[(df.city =='chicago') & (df.category == 'vegan')].price, hist=True)"
   ]
  },
  {
   "cell_type": "markdown",
   "metadata": {},
   "source": [
    "# Summary Analysis"
   ]
  },
  {
   "cell_type": "markdown",
   "metadata": {},
   "source": [
    "We create a new DataFrame with just summary statistics to allow us to see quick comparisons by city."
   ]
  },
  {
   "cell_type": "markdown",
   "metadata": {},
   "source": [
    "### Population of matching 40km radius"
   ]
  },
  {
   "cell_type": "code",
   "execution_count": 18,
   "metadata": {},
   "outputs": [],
   "source": [
    "pop = {'Portland':1907395, \n",
    "'Los Angeles':10055380, \n",
    "'New York City':13409590, \n",
    "'Boston':3342667, \n",
    "'Chicago':6377851, \n",
    "'Austin':1142575, \n",
    "'Miami':3140501, \n",
    "'Tulsa':757571, \n",
    "'Minneapolis':2648228, \n",
    "'San Diego':2684215}"
   ]
  },
  {
   "cell_type": "code",
   "execution_count": 4,
   "metadata": {},
   "outputs": [],
   "source": [
    "# creating a new dataframed named cities_df\n",
    "cities = ['portland','los angeles','new york','boston','chicago','austin','miami','tulsa','minneapolis','san diego']\n"
   ]
  },
  {
   "cell_type": "code",
   "execution_count": 5,
   "metadata": {},
   "outputs": [],
   "source": [
    "def get_number_of_restaurants(city,restaurant_type):\n",
    "    return df.loc[(df['city'] == city) & (df['category'] == restaurant_type)].shape[0]"
   ]
  },
  {
   "cell_type": "code",
   "execution_count": 6,
   "metadata": {},
   "outputs": [],
   "source": [
    "# create a function that sums price per city per category: vegan, steak\n",
    "def get_sum(city,restaurant_type):\n",
    "    return df.loc[(df['city'] == city) & (df['category'] == restaurant_type)].price.sum()"
   ]
  },
  {
   "cell_type": "code",
   "execution_count": 27,
   "metadata": {},
   "outputs": [],
   "source": [
    "cities_df = pd.DataFrame({'city':cities},)\n",
    "\n",
    "#adding vegan_count column to cities_df dataframe\n",
    "cities_df['veg_count'] = cities_df['city'].map(lambda x :get_number_of_restaurants(x,'vegan') )\n",
    "\n",
    "#adding steak_count column to cities_df dataframe\n",
    "cities_df['steak_count'] = cities_df['city'].map(lambda x :get_number_of_restaurants(x,'steak') )\n",
    "\n",
    "# adding a population column to cities_df dataframe\n",
    "cities_df['pop'] = [float(x) for x in list(pop.values())]\n",
    "\n",
    "# adding a per capita column to cities_df dataframe to give steak restaurants per capita per city\n",
    "cities_df['steak_capita'] = cities_df['steak_count'] / cities_df['pop']\n",
    "cities_df['veg_capita'] = cities_df['veg_count'] / cities_df['pop']\n",
    "\n",
    "cities_df['steak_rating_mean'] = cities_df['city'].map(lambda x :get_sum(x,'steak') )/cities_df['steak_count']\n",
    "cities_df['veg_rating_mean'] = cities_df['city'].map(lambda x :get_sum(x,'vegan') )/ cities_df['veg_count']\n",
    "\n",
    "# adding price sum column per city for steak restaurants\n",
    "cities_df['steak_$mean'] = cities_df['city'].map(lambda x :get_sum(x,'steak') )/ cities_df['steak_count']\n",
    "cities_df['veg_$mean'] = cities_df['city'].map(lambda x :get_sum(x,'vegan') )/ cities_df['veg_count']\n",
    "\n",
    "\n",
    "# adding longitude and latitude to cities_df dataframe\n",
    "cities_df['latitude'] = df.latitude\n",
    "cities_df['longitude'] = df.longitude\n",
    "\n",
    "#setting the index to the city\n",
    "cities_df.set_index('city', drop=True, inplace=True)"
   ]
  },
  {
   "cell_type": "code",
   "execution_count": 29,
   "metadata": {},
   "outputs": [
    {
     "data": {
      "text/html": [
       "<div>\n",
       "<style scoped>\n",
       "    .dataframe tbody tr th:only-of-type {\n",
       "        vertical-align: middle;\n",
       "    }\n",
       "\n",
       "    .dataframe tbody tr th {\n",
       "        vertical-align: top;\n",
       "    }\n",
       "\n",
       "    .dataframe thead th {\n",
       "        text-align: right;\n",
       "    }\n",
       "</style>\n",
       "<table border=\"1\" class=\"dataframe\">\n",
       "  <thead>\n",
       "    <tr style=\"text-align: right;\">\n",
       "      <th></th>\n",
       "      <th>veg_count</th>\n",
       "      <th>steak_count</th>\n",
       "      <th>pop</th>\n",
       "      <th>steak_capita</th>\n",
       "      <th>veg_capita</th>\n",
       "      <th>steak_rating_mean</th>\n",
       "      <th>veg_rating_mean</th>\n",
       "      <th>steak_$mean</th>\n",
       "      <th>veg_$mean</th>\n",
       "      <th>latitude</th>\n",
       "      <th>longitude</th>\n",
       "    </tr>\n",
       "    <tr>\n",
       "      <th>city</th>\n",
       "      <th></th>\n",
       "      <th></th>\n",
       "      <th></th>\n",
       "      <th></th>\n",
       "      <th></th>\n",
       "      <th></th>\n",
       "      <th></th>\n",
       "      <th></th>\n",
       "      <th></th>\n",
       "      <th></th>\n",
       "      <th></th>\n",
       "    </tr>\n",
       "  </thead>\n",
       "  <tbody>\n",
       "    <tr>\n",
       "      <th>portland</th>\n",
       "      <td>102</td>\n",
       "      <td>30</td>\n",
       "      <td>1907395.0</td>\n",
       "      <td>0.000016</td>\n",
       "      <td>0.000053</td>\n",
       "      <td>2.551724</td>\n",
       "      <td>1.505747</td>\n",
       "      <td>2.551724</td>\n",
       "      <td>1.505747</td>\n",
       "      <td>40.714153</td>\n",
       "      <td>-73.990425</td>\n",
       "    </tr>\n",
       "    <tr>\n",
       "      <th>los angeles</th>\n",
       "      <td>137</td>\n",
       "      <td>68</td>\n",
       "      <td>10055380.0</td>\n",
       "      <td>0.000007</td>\n",
       "      <td>0.000014</td>\n",
       "      <td>2.758065</td>\n",
       "      <td>1.678261</td>\n",
       "      <td>2.758065</td>\n",
       "      <td>1.678261</td>\n",
       "      <td>40.726740</td>\n",
       "      <td>-73.987220</td>\n",
       "    </tr>\n",
       "    <tr>\n",
       "      <th>new york</th>\n",
       "      <td>238</td>\n",
       "      <td>243</td>\n",
       "      <td>13409590.0</td>\n",
       "      <td>0.000018</td>\n",
       "      <td>0.000018</td>\n",
       "      <td>2.853333</td>\n",
       "      <td>1.905941</td>\n",
       "      <td>2.853333</td>\n",
       "      <td>1.905941</td>\n",
       "      <td>40.720428</td>\n",
       "      <td>-74.000203</td>\n",
       "    </tr>\n",
       "    <tr>\n",
       "      <th>boston</th>\n",
       "      <td>36</td>\n",
       "      <td>47</td>\n",
       "      <td>3342667.0</td>\n",
       "      <td>0.000014</td>\n",
       "      <td>0.000011</td>\n",
       "      <td>2.613636</td>\n",
       "      <td>1.750000</td>\n",
       "      <td>2.613636</td>\n",
       "      <td>1.750000</td>\n",
       "      <td>40.722311</td>\n",
       "      <td>-73.997377</td>\n",
       "    </tr>\n",
       "    <tr>\n",
       "      <th>chicago</th>\n",
       "      <td>56</td>\n",
       "      <td>97</td>\n",
       "      <td>6377851.0</td>\n",
       "      <td>0.000015</td>\n",
       "      <td>0.000009</td>\n",
       "      <td>2.802198</td>\n",
       "      <td>1.607843</td>\n",
       "      <td>2.802198</td>\n",
       "      <td>1.607843</td>\n",
       "      <td>40.725371</td>\n",
       "      <td>-73.987617</td>\n",
       "    </tr>\n",
       "    <tr>\n",
       "      <th>austin</th>\n",
       "      <td>53</td>\n",
       "      <td>31</td>\n",
       "      <td>1142575.0</td>\n",
       "      <td>0.000027</td>\n",
       "      <td>0.000046</td>\n",
       "      <td>2.700000</td>\n",
       "      <td>1.534884</td>\n",
       "      <td>2.700000</td>\n",
       "      <td>1.534884</td>\n",
       "      <td>40.713854</td>\n",
       "      <td>-73.998948</td>\n",
       "    </tr>\n",
       "    <tr>\n",
       "      <th>miami</th>\n",
       "      <td>32</td>\n",
       "      <td>73</td>\n",
       "      <td>3140501.0</td>\n",
       "      <td>0.000023</td>\n",
       "      <td>0.000010</td>\n",
       "      <td>2.303030</td>\n",
       "      <td>1.720000</td>\n",
       "      <td>2.303030</td>\n",
       "      <td>1.720000</td>\n",
       "      <td>40.723780</td>\n",
       "      <td>-73.988490</td>\n",
       "    </tr>\n",
       "    <tr>\n",
       "      <th>tulsa</th>\n",
       "      <td>5</td>\n",
       "      <td>33</td>\n",
       "      <td>757571.0</td>\n",
       "      <td>0.000044</td>\n",
       "      <td>0.000007</td>\n",
       "      <td>2.366667</td>\n",
       "      <td>1.333333</td>\n",
       "      <td>2.366667</td>\n",
       "      <td>1.333333</td>\n",
       "      <td>40.720310</td>\n",
       "      <td>-73.993050</td>\n",
       "    </tr>\n",
       "    <tr>\n",
       "      <th>minneapolis</th>\n",
       "      <td>16</td>\n",
       "      <td>27</td>\n",
       "      <td>2648228.0</td>\n",
       "      <td>0.000010</td>\n",
       "      <td>0.000006</td>\n",
       "      <td>2.680000</td>\n",
       "      <td>1.727273</td>\n",
       "      <td>2.680000</td>\n",
       "      <td>1.727273</td>\n",
       "      <td>40.714064</td>\n",
       "      <td>-73.987465</td>\n",
       "    </tr>\n",
       "    <tr>\n",
       "      <th>san diego</th>\n",
       "      <td>46</td>\n",
       "      <td>51</td>\n",
       "      <td>2684215.0</td>\n",
       "      <td>0.000019</td>\n",
       "      <td>0.000017</td>\n",
       "      <td>2.638298</td>\n",
       "      <td>1.707317</td>\n",
       "      <td>2.638298</td>\n",
       "      <td>1.707317</td>\n",
       "      <td>40.706532</td>\n",
       "      <td>-74.004134</td>\n",
       "    </tr>\n",
       "  </tbody>\n",
       "</table>\n",
       "</div>"
      ],
      "text/plain": [
       "             veg_count  steak_count         pop  steak_capita  veg_capita  \\\n",
       "city                                                                        \n",
       "portland           102           30   1907395.0      0.000016    0.000053   \n",
       "los angeles        137           68  10055380.0      0.000007    0.000014   \n",
       "new york           238          243  13409590.0      0.000018    0.000018   \n",
       "boston              36           47   3342667.0      0.000014    0.000011   \n",
       "chicago             56           97   6377851.0      0.000015    0.000009   \n",
       "austin              53           31   1142575.0      0.000027    0.000046   \n",
       "miami               32           73   3140501.0      0.000023    0.000010   \n",
       "tulsa                5           33    757571.0      0.000044    0.000007   \n",
       "minneapolis         16           27   2648228.0      0.000010    0.000006   \n",
       "san diego           46           51   2684215.0      0.000019    0.000017   \n",
       "\n",
       "             steak_rating_mean  veg_rating_mean  steak_$mean  veg_$mean  \\\n",
       "city                                                                      \n",
       "portland              2.551724         1.505747     2.551724   1.505747   \n",
       "los angeles           2.758065         1.678261     2.758065   1.678261   \n",
       "new york              2.853333         1.905941     2.853333   1.905941   \n",
       "boston                2.613636         1.750000     2.613636   1.750000   \n",
       "chicago               2.802198         1.607843     2.802198   1.607843   \n",
       "austin                2.700000         1.534884     2.700000   1.534884   \n",
       "miami                 2.303030         1.720000     2.303030   1.720000   \n",
       "tulsa                 2.366667         1.333333     2.366667   1.333333   \n",
       "minneapolis           2.680000         1.727273     2.680000   1.727273   \n",
       "san diego             2.638298         1.707317     2.638298   1.707317   \n",
       "\n",
       "              latitude  longitude  \n",
       "city                               \n",
       "portland     40.714153 -73.990425  \n",
       "los angeles  40.726740 -73.987220  \n",
       "new york     40.720428 -74.000203  \n",
       "boston       40.722311 -73.997377  \n",
       "chicago      40.725371 -73.987617  \n",
       "austin       40.713854 -73.998948  \n",
       "miami        40.723780 -73.988490  \n",
       "tulsa        40.720310 -73.993050  \n",
       "minneapolis  40.714064 -73.987465  \n",
       "san diego    40.706532 -74.004134  "
      ]
     },
     "execution_count": 29,
     "metadata": {},
     "output_type": "execute_result"
    }
   ],
   "source": [
    "cities_df"
   ]
  },
  {
   "cell_type": "code",
   "execution_count": null,
   "metadata": {},
   "outputs": [],
   "source": [
    "cities_df = pd.DataFrame.from_dict(pop, orient='index')"
   ]
  },
  {
   "cell_type": "code",
   "execution_count": null,
   "metadata": {},
   "outputs": [],
   "source": [
    "\n"
   ]
  },
  {
   "cell_type": "code",
   "execution_count": null,
   "metadata": {},
   "outputs": [],
   "source": []
  },
  {
   "cell_type": "code",
   "execution_count": null,
   "metadata": {},
   "outputs": [],
   "source": [
    "\n",
    "\n"
   ]
  },
  {
   "cell_type": "code",
   "execution_count": null,
   "metadata": {},
   "outputs": [],
   "source": [
    "\n"
   ]
  },
  {
   "cell_type": "code",
   "execution_count": null,
   "metadata": {},
   "outputs": [],
   "source": []
  },
  {
   "cell_type": "code",
   "execution_count": null,
   "metadata": {},
   "outputs": [],
   "source": [
    "\n"
   ]
  },
  {
   "cell_type": "code",
   "execution_count": null,
   "metadata": {},
   "outputs": [],
   "source": []
  },
  {
   "cell_type": "code",
   "execution_count": null,
   "metadata": {},
   "outputs": [],
   "source": []
  },
  {
   "cell_type": "code",
   "execution_count": null,
   "metadata": {},
   "outputs": [],
   "source": []
  },
  {
   "cell_type": "code",
   "execution_count": null,
   "metadata": {},
   "outputs": [],
   "source": []
  },
  {
   "cell_type": "code",
   "execution_count": null,
   "metadata": {},
   "outputs": [],
   "source": []
  },
  {
   "cell_type": "code",
   "execution_count": null,
   "metadata": {},
   "outputs": [],
   "source": []
  },
  {
   "cell_type": "code",
   "execution_count": 30,
   "metadata": {},
   "outputs": [
    {
     "data": {
      "text/plain": [
       "<matplotlib.axes._subplots.AxesSubplot at 0x1a23474978>"
      ]
     },
     "execution_count": 30,
     "metadata": {},
     "output_type": "execute_result"
    },
    {
     "data": {
      "image/png": "[encoded data removed]",
      "text/plain": [
       "<Figure size 432x288 with 1 Axes>"
      ]
     },
     "metadata": {
      "needs_background": "light"
     },
     "output_type": "display_data"
    }
   ],
   "source": [
    "cities_df.plot.bar()"
   ]
  },
  {
   "cell_type": "code",
   "execution_count": null,
   "metadata": {},
   "outputs": [],
   "source": []
  },
  {
   "cell_type": "code",
   "execution_count": null,
   "metadata": {},
   "outputs": [],
   "source": []
  },
  {
   "cell_type": "markdown",
   "metadata": {},
   "source": []
  },
  {
   "cell_type": "code",
   "execution_count": null,
   "metadata": {},
   "outputs": [],
   "source": [
    "pop = {'Portland':1907395, \n",
    "'Los Angeles':10055380, \n",
    "'New York City':13409590, \n",
    "'Boston':3342667, \n",
    "'Chicago':6377851, \n",
    "'Austin':1142575, \n",
    "'miami':3140501, \n",
    "'tulsa':757571, \n",
    "'Minneapolis':2648228, \n",
    "'San Diego':2684215}"
   ]
  },
  {
   "cell_type": "markdown",
   "metadata": {},
   "source": [
    "two sample Z test"
   ]
  },
  {
   "cell_type": "code",
   "execution_count": null,
   "metadata": {},
   "outputs": [],
   "source": []
  }
 ],
 "metadata": {
  "kernelspec": {
   "display_name": "learn-env",
   "language": "python",
   "name": "learn-env"
  },
  "language_info": {
   "codemirror_mode": {
    "name": "ipython",
    "version": 3
   },
   "file_extension": ".py",
   "mimetype": "text/x-python",
   "name": "python",
   "nbconvert_exporter": "python",
   "pygments_lexer": "ipython3",
   "version": "3.6.6"
  }
 },
 "nbformat": 4,
 "nbformat_minor": 2
}
